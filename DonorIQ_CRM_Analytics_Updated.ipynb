{
 "cells": [
  {
   "cell_type": "markdown",
   "id": "3869f0e7",
   "metadata": {},
   "source": [
    "# DonorIQ CRM Donor Analytics Project (Final Edition)\n",
    "\n",
    "This notebook explores donor data for a university CRM system."
   ]
  },
  {
   "cell_type": "markdown",
   "id": "2d342044",
   "metadata": {},
   "source": [
    "## Step 1: Load Dataset and Perform Preprocessing"
   ]
  },
  {
   "cell_type": "code",
   "execution_count": null,
   "id": "9e614bba",
   "metadata": {},
   "outputs": [],
   "source": [
    "import pandas as pd\n",
    "df = pd.read_csv('/mnt/data/CRM_Donor_Simulation_Dataset_With_Gender.csv')"
   ]
  },
  {
   "cell_type": "markdown",
   "id": "cbbdbe7a",
   "metadata": {},
   "source": [
    "## Step 2: Exploratory Data Analysis (EDA)\n",
    "We explore the structure, quality, and summary of the dataset before diving into questions."
   ]
  },
  {
   "cell_type": "code",
   "execution_count": null,
   "id": "f1509767",
   "metadata": {},
   "outputs": [],
   "source": [
    "# Dataset info: structure, nulls, types\n",
    "df.info()\n"
   ]
  },
  {
   "cell_type": "code",
   "execution_count": null,
   "id": "a00955f2",
   "metadata": {},
   "outputs": [],
   "source": [
    "# Summary statistics\n",
    "df.describe()\n"
   ]
  },
  {
   "cell_type": "code",
   "execution_count": null,
   "id": "45a5a548",
   "metadata": {},
   "outputs": [],
   "source": [
    "# Check null values\n",
    "df.isnull().sum()\n"
   ]
  },
  {
   "cell_type": "code",
   "execution_count": null,
   "id": "68cb94fb",
   "metadata": {},
   "outputs": [],
   "source": [
    "# Distribution of categorical features\n",
    "print(\"Gender distribution:\")\n",
    "print(df[\"Gender\"].value_counts())\n",
    "print(\"\\nEngagement Tiers:\")\n",
    "print(df[\"EngagementTier\"].value_counts())\n",
    "print(\"\\nGiving Tiers:\")\n",
    "print(df[\"GivingTier\"].value_counts())\n"
   ]
  },
  {
   "cell_type": "code",
   "execution_count": null,
   "id": "8af9737a",
   "metadata": {},
   "outputs": [],
   "source": [
    "# Correlation matrix\n",
    "sns.heatmap(df.corr(numeric_only=True), annot=True, cmap=\"coolwarm\")\n",
    "plt.title(\"Correlation Matrix of Numerical Features\")\n",
    "plt.show()\n"
   ]
  },
  {
   "cell_type": "markdown",
   "id": "1c37fff4",
   "metadata": {},
   "source": [
    "### ❓ Q1: What is the distribution of donors by Engagement Tier?\n",
    "This helps us understand how engaged the donor base is overall."
   ]
  },
  {
   "cell_type": "code",
   "execution_count": null,
   "id": "dc5c99a5",
   "metadata": {},
   "outputs": [],
   "source": [
    "# Plot donor counts in each engagement tier\n",
    "import seaborn as sns\n",
    "sns.countplot(data=df, x=\"EngagementTier\", palette=\"viridis\")\n",
    "plt.title(\"Distribution of Donors by Engagement Tier\")\n",
    "plt.xlabel(\"Engagement Tier\")\n",
    "plt.ylabel(\"Number of Donors\")\n",
    "plt.show()\n"
   ]
  },
  {
   "cell_type": "markdown",
   "id": "5b7449cb",
   "metadata": {},
   "source": [
    "### ❓ Q2: What is the average donation amount per Engagement Tier?\n",
    "We check whether more engaged donors give larger amounts."
   ]
  },
  {
   "cell_type": "code",
   "execution_count": null,
   "id": "ac7e1611",
   "metadata": {},
   "outputs": [],
   "source": [
    "df.groupby(\"EngagementTier\")[\"TotalAmountDonated\"].mean().plot(kind='bar', color='teal')\n",
    "plt.title(\"Average Donation by Engagement Tier\")\n",
    "plt.xlabel(\"Engagement Tier\")\n",
    "plt.ylabel(\"Average Total Donation ($)\")\n",
    "plt.show()\n"
   ]
  },
  {
   "cell_type": "markdown",
   "id": "46201c0f",
   "metadata": {},
   "source": [
    "### ❓ Q3: How many total gifts were made in each Giving Tier?\n",
    "This shows which donor groups are driving volume."
   ]
  },
  {
   "cell_type": "code",
   "execution_count": null,
   "id": "8f2189fe",
   "metadata": {},
   "outputs": [],
   "source": [
    "df.groupby(\"GivingTier\")[\"TotalGifts\"].sum().plot(kind='bar', color='slateblue')\n",
    "plt.title(\"Total Gifts by Giving Tier\")\n",
    "plt.xlabel(\"Giving Tier\")\n",
    "plt.ylabel(\"Total Number of Gifts\")\n",
    "plt.show()\n"
   ]
  },
  {
   "cell_type": "markdown",
   "id": "3257d3bf",
   "metadata": {},
   "source": [
    "### ❓ Q4: What is the average number of gifts per donor in each Giving Tier?\n",
    "Do smaller donors give more frequently?"
   ]
  },
  {
   "cell_type": "code",
   "execution_count": null,
   "id": "aa87ff63",
   "metadata": {},
   "outputs": [],
   "source": [
    "df.groupby(\"GivingTier\")[\"TotalGifts\"].mean().plot(kind='bar', color='mediumseagreen')\n",
    "plt.title(\"Average Gifts per Donor by Giving Tier\")\n",
    "plt.xlabel(\"Giving Tier\")\n",
    "plt.ylabel(\"Average Number of Gifts\")\n",
    "plt.show()\n"
   ]
  },
  {
   "cell_type": "markdown",
   "id": "b15aee56",
   "metadata": {},
   "source": [
    "### ❓ Q5: What are the correlations between numerical features?\n",
    "This heatmap shows relationships between donation amount, engagement, gifts, and recency."
   ]
  },
  {
   "cell_type": "code",
   "execution_count": null,
   "id": "e60e1338",
   "metadata": {},
   "outputs": [],
   "source": [
    "import matplotlib.pyplot as plt\n",
    "plt.figure(figsize=(10,6))\n",
    "sns.heatmap(df.corr(numeric_only=True), annot=True, cmap=\"coolwarm\")\n",
    "plt.title(\"Correlation Matrix\")\n",
    "plt.show()\n"
   ]
  },
  {
   "cell_type": "markdown",
   "id": "9527677e",
   "metadata": {},
   "source": [
    "### ❓ Q6: What is the distribution of total donation amounts?\n",
    "Helps detect skewness or anomalies in donation behavior."
   ]
  },
  {
   "cell_type": "code",
   "execution_count": null,
   "id": "8043c1aa",
   "metadata": {},
   "outputs": [],
   "source": [
    "sns.histplot(df[\"TotalAmountDonated\"], bins=40, kde=True, color=\"dodgerblue\")\n",
    "plt.title(\"Distribution of Total Donation Amount\")\n",
    "plt.xlabel(\"Donation Amount ($)\")\n",
    "plt.ylabel(\"Number of Donors\")\n",
    "plt.show()"
   ]
  },
  {
   "cell_type": "markdown",
   "id": "d295e166",
   "metadata": {},
   "source": [
    "### ❓ Q7: How recently have donors given?\n",
    "A histogram of donation recency shows lapsed vs active donors."
   ]
  },
  {
   "cell_type": "code",
   "execution_count": null,
   "id": "121578b9",
   "metadata": {},
   "outputs": [],
   "source": [
    "sns.histplot(df[\"DaysSinceLastDonation\"], bins=30, color=\"darkorange\", kde=True)\n",
    "plt.title(\"Days Since Last Donation\")\n",
    "plt.xlabel(\"Days\")\n",
    "plt.ylabel(\"Number of Donors\")\n",
    "plt.show()"
   ]
  },
  {
   "cell_type": "markdown",
   "id": "f2115781",
   "metadata": {},
   "source": [
    "### ❓ Q8: How does donation amount vary across engagement levels?"
   ]
  },
  {
   "cell_type": "code",
   "execution_count": null,
   "id": "25195086",
   "metadata": {},
   "outputs": [],
   "source": [
    "sns.boxplot(data=df, x=\"EngagementTier\", y=\"TotalAmountDonated\", palette=\"Set3\")\n",
    "plt.title(\"Donation Amount by Engagement Tier\")\n",
    "plt.xlabel(\"Engagement Tier\")\n",
    "plt.ylabel(\"Donation Amount\")\n",
    "plt.show()"
   ]
  },
  {
   "cell_type": "markdown",
   "id": "969dc4b4",
   "metadata": {},
   "source": [
    "### ❓ Q9: Median donation by recency tier?"
   ]
  },
  {
   "cell_type": "code",
   "execution_count": null,
   "id": "24b8e33b",
   "metadata": {},
   "outputs": [],
   "source": [
    "df.groupby(\"RecencyTier\")[\"TotalAmountDonated\"].median().plot(kind='bar', color=\"orchid\")\n",
    "plt.title(\"Median Donation by Recency Tier\")\n",
    "plt.xlabel(\"Recency Tier\")\n",
    "plt.ylabel(\"Median Donation\")\n",
    "plt.show()"
   ]
  },
  {
   "cell_type": "markdown",
   "id": "91fdd5aa",
   "metadata": {},
   "source": [
    "### ❓ Q10: Engagement distribution by giving tier?"
   ]
  },
  {
   "cell_type": "code",
   "execution_count": null,
   "id": "07c3bbea",
   "metadata": {},
   "outputs": [],
   "source": [
    "sns.boxplot(data=df, x=\"GivingTier\", y=\"EngagementScore\", palette=\"coolwarm\")\n",
    "plt.title(\"Engagement Score by Giving Tier\")\n",
    "plt.xlabel(\"Giving Tier\")\n",
    "plt.ylabel(\"Engagement Score\")\n",
    "plt.show()"
   ]
  },
  {
   "cell_type": "markdown",
   "id": "d492a1ab",
   "metadata": {},
   "source": [
    "### ❓ Q11: Top 10 zip codes by donor count?"
   ]
  },
  {
   "cell_type": "code",
   "execution_count": null,
   "id": "95bfbddf",
   "metadata": {},
   "outputs": [],
   "source": [
    "df[\"ZipCode\"].value_counts().head(10).plot(kind='bar', color='teal')\n",
    "plt.title(\"Top 10 Donor Zip Codes\")\n",
    "plt.xlabel(\"Zip Code\")\n",
    "plt.ylabel(\"Donor Count\")\n",
    "plt.show()"
   ]
  },
  {
   "cell_type": "markdown",
   "id": "ecafd97e",
   "metadata": {},
   "source": [
    "### ❓ Q12: Average recency by engagement tier?"
   ]
  },
  {
   "cell_type": "code",
   "execution_count": null,
   "id": "89c23afb",
   "metadata": {},
   "outputs": [],
   "source": [
    "df.groupby(\"EngagementTier\")[\"DaysSinceLastDonation\"].mean().plot(kind='bar', color='crimson')\n",
    "plt.title(\"Average Recency by Engagement Tier\")\n",
    "plt.xlabel(\"Engagement Tier\")\n",
    "plt.ylabel(\"Days Since Last Donation\")\n",
    "plt.show()"
   ]
  },
  {
   "cell_type": "markdown",
   "id": "7327e479",
   "metadata": {},
   "source": [
    "### ❓ Q13: Total gifts by recency tier?"
   ]
  },
  {
   "cell_type": "code",
   "execution_count": null,
   "id": "7cbc92fe",
   "metadata": {},
   "outputs": [],
   "source": [
    "df.groupby(\"RecencyTier\")[\"TotalGifts\"].sum().plot(kind='bar', color='slategray')\n",
    "plt.title(\"Total Gifts by Recency Tier\")\n",
    "plt.xlabel(\"Recency Tier\")\n",
    "plt.ylabel(\"Total Gifts\")\n",
    "plt.show()"
   ]
  },
  {
   "cell_type": "markdown",
   "id": "b030e917",
   "metadata": {},
   "source": [
    "### ❓ Q14: Engagement score distribution?"
   ]
  },
  {
   "cell_type": "code",
   "execution_count": null,
   "id": "7f1eac85",
   "metadata": {},
   "outputs": [],
   "source": [
    "sns.histplot(df[\"EngagementScore\"], bins=30, kde=True, color=\"seagreen\")\n",
    "plt.title(\"Engagement Score Distribution\")\n",
    "plt.xlabel(\"Score\")\n",
    "plt.ylabel(\"Frequency\")\n",
    "plt.show()"
   ]
  },
  {
   "cell_type": "markdown",
   "id": "901d42bb",
   "metadata": {},
   "source": [
    "### ❓ Q15: High-value donors (>$5000)?"
   ]
  },
  {
   "cell_type": "code",
   "execution_count": null,
   "id": "fa7ac4a0",
   "metadata": {},
   "outputs": [],
   "source": [
    "high_value_donors = df[df[\"TotalAmountDonated\"] > 5000]\n",
    "high_value_donors.sort_values(\"TotalAmountDonated\", ascending=False)[[\"DonorID\", \"TotalAmountDonated\", \"EngagementScore\"]].head()"
   ]
  },
  {
   "cell_type": "markdown",
   "id": "7fcaad4d",
   "metadata": {},
   "source": [
    "### ❓ Q16: Most frequent donors (by gifts)?"
   ]
  },
  {
   "cell_type": "code",
   "execution_count": null,
   "id": "c70e0492",
   "metadata": {},
   "outputs": [],
   "source": [
    "df.sort_values(\"TotalGifts\", ascending=False)[[\"DonorID\", \"TotalGifts\", \"TotalAmountDonated\"]].head(10)"
   ]
  },
  {
   "cell_type": "markdown",
   "id": "538ff9b5",
   "metadata": {},
   "source": [
    "### ❓ Q17: Total donations by Engagement x Recency Tier?"
   ]
  },
  {
   "cell_type": "code",
   "execution_count": null,
   "id": "545333c7",
   "metadata": {},
   "outputs": [],
   "source": [
    "pivot = df.pivot_table(index=\"EngagementTier\", columns=\"RecencyTier\", values=\"TotalAmountDonated\", aggfunc=\"sum\")\n",
    "sns.heatmap(pivot, annot=True, fmt=\".0f\", cmap=\"Purples\")\n",
    "plt.title(\"Donations by Engagement & Recency Tier\")\n",
    "plt.show()"
   ]
  },
  {
   "cell_type": "markdown",
   "id": "f64ac0a0",
   "metadata": {},
   "source": [
    "### ❓ Q18: Average gift count by gender?"
   ]
  },
  {
   "cell_type": "code",
   "execution_count": null,
   "id": "b478d36d",
   "metadata": {},
   "outputs": [],
   "source": [
    "df.groupby(\"Gender\")[\"TotalGifts\"].mean().plot(kind='bar', color='orange')\n",
    "plt.title(\"Average Gifts by Gender\")\n",
    "plt.xlabel(\"Gender\")\n",
    "plt.ylabel(\"Avg Gifts\")\n",
    "plt.show()"
   ]
  },
  {
   "cell_type": "markdown",
   "id": "d68709a1",
   "metadata": {},
   "source": [
    "### ❓ Q19: Correlation between Engagement and Gifts?"
   ]
  },
  {
   "cell_type": "code",
   "execution_count": null,
   "id": "dc67b69b",
   "metadata": {},
   "outputs": [],
   "source": [
    "cor = df[\"EngagementScore\"].corr(df[\"TotalGifts\"])\n",
    "print(f\"Correlation: {cor:.2f}\")"
   ]
  },
  {
   "cell_type": "markdown",
   "id": "47983fa2",
   "metadata": {},
   "source": [
    "### ❓ Q20: Engagement by Recency Tier?"
   ]
  },
  {
   "cell_type": "code",
   "execution_count": null,
   "id": "b578e632",
   "metadata": {},
   "outputs": [],
   "source": [
    "sns.boxplot(data=df, x=\"RecencyTier\", y=\"EngagementScore\", palette=\"Set2\")\n",
    "plt.title(\"Engagement by Recency\")\n",
    "plt.xlabel(\"Recency Tier\")\n",
    "plt.ylabel(\"Engagement Score\")\n",
    "plt.show()"
   ]
  },
  {
   "cell_type": "markdown",
   "id": "98ff69de",
   "metadata": {},
   "source": [
    "### ❓ Q21: Distribution of average donation per gift?"
   ]
  },
  {
   "cell_type": "code",
   "execution_count": null,
   "id": "37b089cc",
   "metadata": {},
   "outputs": [],
   "source": [
    "df[\"AvgDonationPerGift\"] = df[\"TotalAmountDonated\"] / df[\"TotalGifts\"]\n",
    "sns.histplot(df[\"AvgDonationPerGift\"], bins=30, color='steelblue')\n",
    "plt.title(\"Average Donation per Gift\")\n",
    "plt.xlabel(\"Avg $ per Gift\")\n",
    "plt.show()"
   ]
  },
  {
   "cell_type": "markdown",
   "id": "7cb0de55",
   "metadata": {},
   "source": [
    "### ❓ Q22: Donation distribution by gender?"
   ]
  },
  {
   "cell_type": "code",
   "execution_count": null,
   "id": "fcba29da",
   "metadata": {},
   "outputs": [],
   "source": [
    "sns.boxplot(data=df, x=\"Gender\", y=\"TotalAmountDonated\", palette=\"Set1\")\n",
    "plt.title(\"Donation by Gender\")\n",
    "plt.xlabel(\"Gender\")\n",
    "plt.ylabel(\"Donation Amount\")\n",
    "plt.show()"
   ]
  },
  {
   "cell_type": "markdown",
   "id": "8df50a8b",
   "metadata": {},
   "source": [
    "### ❓ Q23: Engagement vs Donation (scatter)?"
   ]
  },
  {
   "cell_type": "code",
   "execution_count": null,
   "id": "c1bca7e7",
   "metadata": {},
   "outputs": [],
   "source": [
    "sns.scatterplot(data=df, x=\"EngagementScore\", y=\"TotalAmountDonated\", hue=\"GivingTier\")\n",
    "plt.title(\"Engagement vs Donation\")\n",
    "plt.xlabel(\"Engagement\")\n",
    "plt.ylabel(\"Donation\")\n",
    "plt.show()"
   ]
  },
  {
   "cell_type": "markdown",
   "id": "9778de49",
   "metadata": {},
   "source": [
    "### ❓ Q24: Most engaged lapsed donors?"
   ]
  },
  {
   "cell_type": "code",
   "execution_count": null,
   "id": "cc97505a",
   "metadata": {},
   "outputs": [],
   "source": [
    "df[df[\"DaysSinceLastDonation\"] > 1000].sort_values(\"EngagementScore\", ascending=False)[[\"DonorID\", \"EngagementScore\", \"TotalAmountDonated\"]].head()"
   ]
  },
  {
   "cell_type": "markdown",
   "id": "85f079ac",
   "metadata": {},
   "source": [
    "### ❓ Q25: Donor segment distribution (Engagement x Giving)?"
   ]
  },
  {
   "cell_type": "code",
   "execution_count": null,
   "id": "663ef060",
   "metadata": {},
   "outputs": [],
   "source": [
    "seg_summary = df.groupby([\"EngagementTier\", \"GivingTier\"]).size().unstack()\n",
    "seg_summary.plot(kind='bar', stacked=True, figsize=(10,6))\n",
    "plt.title(\"Donor Segments by Tier\")\n",
    "plt.ylabel(\"Number of Donors\")\n",
    "plt.xlabel(\"Engagement Tier\")\n",
    "plt.show()"
   ]
  }
 ],
 "metadata": {},
 "nbformat": 4,
 "nbformat_minor": 5
}
